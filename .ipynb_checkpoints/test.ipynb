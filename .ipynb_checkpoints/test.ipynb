{
 "cells": [
  {
   "cell_type": "code",
   "execution_count": null,
   "id": "cb201bb2-616f-45dc-8329-7d950a442cd8",
   "metadata": {
    "tags": []
   },
   "outputs": [],
   "source": [
    "import gspread\n",
    "from oauth2client.service_account import ServiceAccountCredentials\n",
    "import os\n",
    "import pandas as pd"
   ]
  },
  {
   "cell_type": "code",
   "execution_count": null,
   "id": "d08a6b30-ed80-4f49-aaac-a2d112bbb063",
   "metadata": {
    "tags": []
   },
   "outputs": [],
   "source": [
    "# google シートの情報\n",
    "SP_SHEET_KEY = '1IglP0FtxOZMsV69hfOkISecJl2_tZ5rFKiw_EsO4qMI'\n",
    "SP_SHEET = 'URL_LISTS'\n",
    "\n",
    "# スプレッドシートの認証\n",
    "def auth():\n",
    "    # Google Sheets APIの設定\n",
    "    scope = ['https://spreadsheets.google.com/feeds',\n",
    "            'https://www.googleapis.com/auth/drive']\n",
    "    credentials = ServiceAccountCredentials.from_json_keyfile_name('json/gcp-credentials.json', scope)\n",
    "    gc = gspread.authorize(credentials)\n",
    "    worksheet = gc.open_by_key(SP_SHEET_KEY).worksheet(SP_SHEET)  # 修正: open() から open_by_key() へ変更\n",
    "    return worksheet"
   ]
  },
  {
   "cell_type": "code",
   "execution_count": null,
   "id": "f91c9356-6bd2-4594-a6ad-a41446cb0cf9",
   "metadata": {
    "tags": []
   },
   "outputs": [],
   "source": [
    "def upload_url(url):\n",
    "    worksheet = auth()\n",
    "    df = pd.DataFrame(worksheet.get_all_records())\n",
    "    \n",
    "    # 新しいURLをDataFrameに追加\n",
    "    new_row = pd.DataFrame([[url]], columns=['URL'])\n",
    "    df = pd.concat([df, new_row], ignore_index=True)\n",
    "    worksheet.append_row(new_row.values.flatten().tolist())\n",
    "    return worksheet"
   ]
  },
  {
   "cell_type": "code",
   "execution_count": 48,
   "id": "7f7e7a47-b37c-40f0-b01d-278f7d18eb42",
   "metadata": {
    "tags": []
   },
   "outputs": [],
   "source": [
    "worksheet = upload_url('https://www.studycloudtech.com/aws/googlespreadsheet-with-gspread-python/#i-8')"
   ]
  },
  {
   "cell_type": "code",
   "execution_count": null,
   "id": "aaa66e35-8bb6-4ba1-a03b-621390e22b89",
   "metadata": {},
   "outputs": [],
   "source": []
  }
 ],
 "metadata": {
  "kernelspec": {
   "display_name": "Python 3 (ipykernel)",
   "language": "python",
   "name": "python3"
  },
  "language_info": {
   "codemirror_mode": {
    "name": "ipython",
    "version": 3
   },
   "file_extension": ".py",
   "mimetype": "text/x-python",
   "name": "python",
   "nbconvert_exporter": "python",
   "pygments_lexer": "ipython3",
   "version": "3.11.4"
  }
 },
 "nbformat": 4,
 "nbformat_minor": 5
}
