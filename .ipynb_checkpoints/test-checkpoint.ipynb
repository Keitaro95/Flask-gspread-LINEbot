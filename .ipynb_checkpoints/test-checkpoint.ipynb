{
 "cells": [
  {
   "cell_type": "code",
   "execution_count": 3,
   "id": "cb201bb2-616f-45dc-8329-7d950a442cd8",
   "metadata": {
    "tags": []
   },
   "outputs": [],
   "source": [
    "import gspread\n",
    "from oauth2client.service_account import ServiceAccountCredentials\n",
    "import os\n",
    "import pandas as pd"
   ]
  },
  {
   "cell_type": "code",
   "execution_count": 14,
   "id": "d08a6b30-ed80-4f49-aaac-a2d112bbb063",
   "metadata": {
    "tags": []
   },
   "outputs": [],
   "source": [
    "# google シートの情報\n",
    "SP_SHEET_KEY = '1IglP0FtxOZMsV69hfOkISecJl2_tZ5rFKiw_EsO4qMI'\n",
    "SP_SHEET = 'URL_LISTS'\n",
    "\n",
    "# スプレッドシートの認証\n",
    "def auth():\n",
    "    # Google Sheets APIの設定\n",
    "    scope = ['https://spreadsheets.google.com/feeds',\n",
    "            'https://www.googleapis.com/auth/drive']\n",
    "    credentials = ServiceAccountCredentials.from_json_keyfile_name('json/gcp-credentials.json', scope)\n",
    "    gc = gspread.authorize(credentials)\n",
    "    worksheet = gc.open_by_key(SP_SHEET_KEY).worksheet(SP_SHEET)  # 修正: open() から open_by_key() へ変更\n",
    "    return worksheet\n",
    "\n",
    "def upload_to_sheet(url, category):\n",
    "    worksheet = auth()\n",
    "    df = pd.DataFrame(worksheet.get_all_records())\n",
    "    df = df.append({'url': url, 'category': category}, ignore_index=True)\n",
    "    worksheet.update([df.columns.values.tolist()] + df.values.tolist())\n",
    "    print(\"シートに送信しました\")"
   ]
  },
  {
   "cell_type": "code",
   "execution_count": 15,
   "id": "10ef407d-29f7-4c9b-af27-290ef0c8b930",
   "metadata": {
    "tags": []
   },
   "outputs": [],
   "source": [
    "worksheet = auth()"
   ]
  },
  {
   "cell_type": "code",
   "execution_count": 16,
   "id": "6a42918f-5f18-4698-989c-86803c51d00d",
   "metadata": {
    "tags": []
   },
   "outputs": [
    {
     "data": {
      "text/plain": [
       "<Worksheet 'URL_LISTS' id:528405844>"
      ]
     },
     "execution_count": 16,
     "metadata": {},
     "output_type": "execute_result"
    }
   ],
   "source": [
    "worksheet"
   ]
  },
  {
   "cell_type": "code",
   "execution_count": 17,
   "id": "6ddfcdb2-275c-4574-9e26-d0fdc6bcd6c0",
   "metadata": {
    "tags": []
   },
   "outputs": [
    {
     "name": "stderr",
     "output_type": "stream",
     "text": [
      "/var/folders/6k/mv58h8d92_g90646gsxlgqnr0000gn/T/ipykernel_7306/1799092332.py:19: FutureWarning: The frame.append method is deprecated and will be removed from pandas in a future version. Use pandas.concat instead.\n",
      "  df = df.append({'url': url, 'category': category}, ignore_index=True)\n"
     ]
    },
    {
     "name": "stdout",
     "output_type": "stream",
     "text": [
      "シートに送信しました\n"
     ]
    }
   ],
   "source": [
    "upload_to_sheet(url='https://enishiblog.org/post-4083/', category='デプロイ')"
   ]
  },
  {
   "cell_type": "code",
   "execution_count": null,
   "id": "aaa66e35-8bb6-4ba1-a03b-621390e22b89",
   "metadata": {},
   "outputs": [],
   "source": []
  }
 ],
 "metadata": {
  "kernelspec": {
   "display_name": "Python 3 (ipykernel)",
   "language": "python",
   "name": "python3"
  },
  "language_info": {
   "codemirror_mode": {
    "name": "ipython",
    "version": 3
   },
   "file_extension": ".py",
   "mimetype": "text/x-python",
   "name": "python",
   "nbconvert_exporter": "python",
   "pygments_lexer": "ipython3",
   "version": "3.11.4"
  }
 },
 "nbformat": 4,
 "nbformat_minor": 5
}
